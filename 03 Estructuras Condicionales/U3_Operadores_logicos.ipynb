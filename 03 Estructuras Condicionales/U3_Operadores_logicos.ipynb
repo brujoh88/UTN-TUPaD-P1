{
  "cells": [
    {
      "cell_type": "markdown",
      "metadata": {
        "id": "uX4X74Um3dLH"
      },
      "source": [
        "# **OPERADORES LÓGICOS**\n"
      ]
    },
    {
      "cell_type": "markdown",
      "metadata": {
        "id": "og_EXhf6l3D-"
      },
      "source": [
        "En la programación, los operadores lógicos son herramientas fundamentales que nos permiten combinar varias condiciones y tomar decisiones basadas en múltiples criterios. Estos operadores se utilizan principalmente en estructuras de control y estructuras repetitivas.\n",
        "\n",
        "Un operador lógico evalúa una condición lógica y devuelve un booleano. Ese booleano adopta valor True si se cumple la condición y False si no se cumple.\n",
        "\n",
        "Los operadores lógicos de Python son and, or y not. Veamos uno a uno cómo se comportan.\n"
      ]
    },
    {
      "cell_type": "markdown",
      "metadata": {
        "id": "Ou-DQziV4eSP"
      },
      "source": [
        "<font color=Green>\n",
        "    \n",
        "Siguen las reglas de la lógica proposicional.\n",
        "\n"
      ]
    },
    {
      "cell_type": "markdown",
      "metadata": {
        "id": "bYyqkTTJqHYf"
      },
      "source": [
        "#### **AND**\n",
        "Se basa en la tabla de verdad de la conjunción, definida del siguiente modo:\n",
        "\n",
        "| a | b |   a and b |\n",
        "|:-------:|:---------:|:------------------------:|\n",
        "|    True  |   True  |     True      |\n",
        "|    True   |   False  |    False    |\n",
        "|    False    |  True  |     False     |\n",
        "|    False     |   False    |     False     |\n",
        "\n",
        "El operador and devuelve True si ambas condiciones son verdaderas. Si al menos una de las condiciones es falsa, el resultado será False.\n",
        "\n",
        "Veamos algunos ejemplos:"
      ]
    },
    {
      "cell_type": "code",
      "execution_count": null,
      "metadata": {
        "colab": {
          "base_uri": "https://localhost:8080/"
        },
        "id": "JSMWfwur4eSa",
        "outputId": "5a7d8b5f-2041-4fd6-a7b9-810cc1b3d80b"
      },
      "outputs": [],
      "source": [
        "# Definimos las variables a y b\n",
        "a = 10 == 10\n",
        "b = 5 == 5\n",
        "\n",
        "# a y b son verdaderas, por lo tanto a and b es verdadero\n",
        "print(a and b)"
      ]
    },
    {
      "cell_type": "code",
      "execution_count": null,
      "metadata": {
        "colab": {
          "base_uri": "https://localhost:8080/"
        },
        "id": "1BVAkGPW4eSX",
        "outputId": "97b48afd-cb2c-4a2d-aad0-b154c6e11ff7"
      },
      "outputs": [],
      "source": [
        "# Definimos las variables a y b\n",
        "a = 10 == 10\n",
        "b = 5 == 4\n",
        "\n",
        "# b es falsa, por lo tanto a and b es falso\n",
        "print(a and b)"
      ]
    },
    {
      "cell_type": "code",
      "execution_count": null,
      "metadata": {
        "colab": {
          "base_uri": "https://localhost:8080/"
        },
        "id": "6_o3Vh0ArVyO",
        "outputId": "841309b5-f255-4191-a046-087e40a4dfb4"
      },
      "outputs": [],
      "source": [
        "# Definimos las variables a y b\n",
        "a = 10 == 9\n",
        "b = 5 == 4\n",
        "\n",
        "# a y b son falsas, por lo tanto a and b es falso\n",
        "print(a and b)"
      ]
    },
    {
      "cell_type": "markdown",
      "metadata": {
        "id": "oZBgVFMJ4eSd"
      },
      "source": [
        "#### **OR**\n",
        "\n",
        "Se basa en la tabla de verdad de la disyunción, definida del siguiente modo:\n",
        "\n",
        "| a | b |   a or b |\n",
        "|:-------:|:---------:|:------------------------:|\n",
        "|    True  |   True  |     True      |\n",
        "|    True   |   False  |    True    |\n",
        "|    False    |  True  |     True     |\n",
        "|    False     |   False    |     False     |\n",
        "\n",
        "El operador or devuelve True si al menos una de las condiciones es verdaderas. Si ambas condiciones son falsas, el resultado será False.\n",
        "\n",
        "Veamos algunos ejemplos:"
      ]
    },
    {
      "cell_type": "code",
      "execution_count": null,
      "metadata": {
        "colab": {
          "base_uri": "https://localhost:8080/"
        },
        "id": "hWRVRMwz4eSg",
        "outputId": "d3f8813c-459c-4d59-a51d-664ac34bc93b"
      },
      "outputs": [],
      "source": [
        "# Definimos las variables a y b\n",
        "a = 10 == 10\n",
        "b = 5 == 5\n",
        "\n",
        "# a y b son verdaderas, por lo tanto a or b es verdadero\n",
        "print(a or b)"
      ]
    },
    {
      "cell_type": "code",
      "execution_count": null,
      "metadata": {
        "colab": {
          "base_uri": "https://localhost:8080/"
        },
        "id": "cZyxiyzc4eSe",
        "outputId": "0eedff2f-80a9-458b-a7e5-b101d5da6ce4"
      },
      "outputs": [],
      "source": [
        "# Definimos las variables a y b\n",
        "a = 10 == 10\n",
        "b = 5 == 4\n",
        "\n",
        "# a es verdadera, por lo tanto a or b es verdadero\n",
        "print(a or b)"
      ]
    },
    {
      "cell_type": "code",
      "execution_count": null,
      "metadata": {
        "colab": {
          "base_uri": "https://localhost:8080/"
        },
        "id": "335F_8lo4eSh",
        "outputId": "6cc6ce94-3bd7-4511-f455-85c7159a6eb8"
      },
      "outputs": [],
      "source": [
        "# Definimos las variables a y b\n",
        "a = 10 == 9\n",
        "b = 5 == 4\n",
        "\n",
        "# a y b son falsas, por lo tanto a or b es falso\n",
        "print(a or b)"
      ]
    },
    {
      "cell_type": "markdown",
      "metadata": {
        "id": "zuUw2hip4eSk"
      },
      "source": [
        "#### **NOT**\n",
        "\n",
        "Se basa en la tabla de verdad de la negación, definida del siguiente modo:\n",
        "\n",
        "| a |  not a |\n",
        "|:-------:|:---------:|\n",
        "|    True  |   False  |\n",
        "|    False |  True    |   \n",
        "\n",
        "El operador not revierte el valor de verdad de un enunciado. Si el enunciado es verdadero, devuelve False y viceversa.\n",
        "\n",
        "Veamos algunos ejemplos:"
      ]
    },
    {
      "cell_type": "code",
      "execution_count": null,
      "metadata": {
        "colab": {
          "base_uri": "https://localhost:8080/"
        },
        "id": "5lcjdSlv4eSv",
        "outputId": "d8707ecf-d4cb-40e5-ddbe-f8e2b77ec866"
      },
      "outputs": [],
      "source": [
        "# Definimos la variable\n",
        "a = 10 == 10\n",
        "\n",
        "# a es verdadera, por lo tanto not a es falso\n",
        "print(not a)"
      ]
    },
    {
      "cell_type": "code",
      "execution_count": null,
      "metadata": {
        "colab": {
          "base_uri": "https://localhost:8080/"
        },
        "id": "QMibSLbB4eSw",
        "outputId": "01924c90-65fb-4217-a154-1ae4ae82f39b"
      },
      "outputs": [],
      "source": [
        "# Definimos la variable\n",
        "a = 10 == 9\n",
        "\n",
        "# a es falsa, por lo tanto not a es verdadero\n",
        "print(not a)"
      ]
    }
  ],
  "metadata": {
    "colab": {
      "provenance": []
    },
    "kernelspec": {
      "display_name": "Python 3",
      "language": "python",
      "name": "python3"
    },
    "language_info": {
      "codemirror_mode": {
        "name": "ipython",
        "version": 3
      },
      "file_extension": ".py",
      "mimetype": "text/x-python",
      "name": "python",
      "nbconvert_exporter": "python",
      "pygments_lexer": "ipython3",
      "version": "3.7.6"
    }
  },
  "nbformat": 4,
  "nbformat_minor": 0
}
